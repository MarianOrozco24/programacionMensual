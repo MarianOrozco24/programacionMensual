{
 "cells": [
  {
   "cell_type": "code",
   "execution_count": 1,
   "metadata": {},
   "outputs": [],
   "source": [
    "import pandas as pd\n",
    "import openpyxl\n",
    "import numpy as np\n",
    "from config import Config\n",
    "from procesamiento_progra.colocacion_unos import colocacion_horarios"
   ]
  },
  {
   "cell_type": "code",
   "execution_count": 2,
   "metadata": {},
   "outputs": [
    {
     "name": "stdout",
     "output_type": "stream",
     "text": [
      "Índices de las columnas con '-2025': [43]\n"
     ]
    }
   ],
   "source": [
    "# importamos el archivo \n",
    "df = pd.read_excel(\"DNH.xlsx\")\n",
    "\n",
    "# Usar .str.contains() para identificar las columnas que cumplen la condición\n",
    "mascara = df.columns.str.contains(\"25-01-2025\")\n",
    "indices_columnas = [i for i, flag in enumerate(mascara) if flag]\n",
    "\n",
    "print(\"Índices de las columnas con '-2025':\", indices_columnas)\n"
   ]
  },
  {
   "cell_type": "code",
   "execution_count": 3,
   "metadata": {},
   "outputs": [],
   "source": [
    "# creamos un df para almacenar los datos obtenidos\n",
    "df_borrar = pd.DataFrame(columns=[\"Id Avaya\",\"Horarios\"])\n",
    "\n",
    "# Creamos un contador para poder indicar en que indice del df colocaremos los datos\n",
    "contador = 0"
   ]
  },
  {
   "cell_type": "code",
   "execution_count": 4,
   "metadata": {},
   "outputs": [
    {
     "name": "stdout",
     "output_type": "stream",
     "text": [
      "Fila 8: ID del asesor = 563032\n",
      "Fila 10: ID del asesor = 562733\n",
      "Fila 29: ID del asesor = 563027\n",
      "Fila 31: ID del asesor = 563059\n",
      "Fila 36: ID del asesor = 562698\n",
      "Fila 40: ID del asesor = 562909\n",
      "Fila 44: ID del asesor = 562729\n",
      "Fila 47: ID del asesor = 562868\n",
      "Fila 48: ID del asesor = 562747\n",
      "Fila 51: ID del asesor = 562886\n",
      "Fila 52: ID del asesor = 563053\n",
      "Fila 53: ID del asesor = 562987\n",
      "Fila 57: ID del asesor = 562930\n",
      "Fila 59: ID del asesor = 562956\n",
      "Fila 63: ID del asesor = 563036\n",
      "Fila 64: ID del asesor = 562957\n",
      "Fila 66: ID del asesor = 562895\n",
      "Fila 67: ID del asesor = 562734\n",
      "Fila 68: ID del asesor = 562901\n",
      "Fila 69: ID del asesor = 563051\n",
      "Fila 70: ID del asesor = 562976\n",
      "Fila 71: ID del asesor = 563057\n",
      "Fila 72: ID del asesor = 562788\n",
      "Fila 73: ID del asesor = 562763\n",
      "Fila 74: ID del asesor = 562908\n",
      "Fila 77: ID del asesor = 562694\n",
      "Fila 78: ID del asesor = 563065\n",
      "Fila 81: ID del asesor = 563020\n",
      "Fila 82: ID del asesor = 563025\n",
      "Fila 84: ID del asesor = 562700\n",
      "Fila 85: ID del asesor = 563055\n",
      "Fila 88: ID del asesor = 562982\n",
      "Fila 90: ID del asesor = 562693\n",
      "Fila 91: ID del asesor = 562860\n",
      "Fila 93: ID del asesor = 562644\n",
      "Fila 94: ID del asesor = 562825\n",
      "Fila 95: ID del asesor = 562861\n",
      "Fila 97: ID del asesor = 562639\n",
      "Fila 98: ID del asesor = 562815\n",
      "Fila 104: ID del asesor = 562911\n",
      "Fila 105: ID del asesor = 563000\n",
      "Fila 108: ID del asesor = 562703\n",
      "Fila 113: ID del asesor = 562959\n",
      "Fila 116: ID del asesor = 563013\n",
      "Fila 145: ID del asesor = 562991\n",
      "Fila 156: ID del asesor = 562923\n",
      "Fila 157: ID del asesor = 562841\n",
      "Fila 158: ID del asesor = 562839\n",
      "Fila 159: ID del asesor = 562979\n",
      "Fila 173: ID del asesor = 562927\n"
     ]
    }
   ],
   "source": [
    "# Recorremos toda la columna para ver que valores no son nulos y en caso de encontrar un valor no nulo, obtenemos el id del asesor\n",
    "for index in df.index:\n",
    "\n",
    "    # Extraer las columnas de interés para esta fila\n",
    "    valores = df.iloc[index, indices_columnas]\n",
    "\n",
    "    # Verificar si hay al menos un valor no nulo\n",
    "    if valores.notna().any():  # .notna() identifica los valores no nulos\n",
    "        # id avaya\n",
    "        avaya = df.loc[index, 'Avaya']\n",
    "        horario = df.iloc[index, indices_columnas[0]]\n",
    "        print(f\"Fila {index}: ID del asesor = {avaya}\")\n",
    "        contador = contador + 1\n",
    "\n",
    "        # Agregamos los datos al df\n",
    "        df_borrar.loc[contador, \"Id Avaya\"] = avaya\n",
    "        df_borrar.loc[contador, \"Horarios\"] = horario\n",
    "        \n",
    "\n"
   ]
  },
  {
   "cell_type": "code",
   "execution_count": 5,
   "metadata": {},
   "outputs": [],
   "source": [
    "# Absorvemos el archivo que exportamos en el script anterior\n",
    "progra = pd.read_excel(\"definitivo2025.xlsx\")\n",
    "\n",
    "# Convertimos el df en matriz para poder ingresar los datos\n",
    "matriz_progra = progra.to_numpy()\n",
    "\n",
    "# Recorremos la progra\n",
    "for m in matriz_progra:\n",
    "    \n",
    "    # Condicional para que solamente me filtre solamente los dias no habiles\n",
    "    if m[0] == \"2025/01/25\":\n",
    "\n",
    "        # Recorremos el df_borrar comparando los id \n",
    "        for index_borrar in df_borrar.index:\n",
    "            \n",
    "            if m[5] == df_borrar.loc[index_borrar, \"Id Avaya\"]:\n",
    "                horario_borrar = df_borrar.loc[index_borrar, \"Horarios\"]\n",
    "                horarios_list = Config.horarios_list\n",
    "                colocacion_horarios(horario_borrar, horarios_list, m)\n",
    "\n",
    "df = pd.DataFrame(matriz_progra, columns=Config.columns)\n",
    "df.to_excel(\"probando findesemanas.xlsx\")"
   ]
  }
 ],
 "metadata": {
  "kernelspec": {
   "display_name": ".venv",
   "language": "python",
   "name": "python3"
  },
  "language_info": {
   "codemirror_mode": {
    "name": "ipython",
    "version": 3
   },
   "file_extension": ".py",
   "mimetype": "text/x-python",
   "name": "python",
   "nbconvert_exporter": "python",
   "pygments_lexer": "ipython3",
   "version": "3.12.5"
  }
 },
 "nbformat": 4,
 "nbformat_minor": 2
}
